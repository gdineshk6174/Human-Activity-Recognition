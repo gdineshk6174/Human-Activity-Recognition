{
 "cells": [
  {
   "cell_type": "code",
   "execution_count": null,
   "metadata": {
    "_uuid": "f248e4c7c347ac43013250905d056818452d2335"
   },
   "outputs": [],
   "source": [
    "# Importing Libraries"
   ]
  },
  {
   "cell_type": "code",
   "execution_count": 1,
   "metadata": {
    "_uuid": "b4abd8a8586d45e88be74f150789472e80ad5aef"
   },
   "outputs": [],
   "source": [
    "import pandas as pd\n",
    "import numpy as np"
   ]
  },
  {
   "cell_type": "code",
   "execution_count": 2,
   "metadata": {
    "_uuid": "40afcea133471f045e030793f1aacfda3ddda2bf"
   },
   "outputs": [],
   "source": [
    "\n",
    "import matplotlib.pyplot as plt\n",
    "import numpy as np\n",
    "import time\n",
    "# https://gist.github.com/greydanus/f6eee59eaf1d90fcb3b534a25362cea4\n",
    "# https://stackoverflow.com/a/14434334\n",
    "# this function is used to update the plots for each epoch and error\n",
    "def plt_dynamic(x, vy, ty, ax, colors=['b']):\n",
    "    ax.plot(x, vy, 'b', label=\"Validation Loss\")\n",
    "    ax.plot(x, ty, 'r', label=\"Train Loss\")\n",
    "    plt.legend()\n",
    "    plt.grid()\n",
    "    fig.canvas.draw()"
   ]
  },
  {
   "cell_type": "code",
   "execution_count": 3,
   "metadata": {
    "_uuid": "ccb943489603fa027672999467a2196fb5297477"
   },
   "outputs": [],
   "source": [
    "# Activities are the class labels\n",
    "# It is a 6 class classification\n",
    "ACTIVITIES = {\n",
    "    0: 'WALKING',\n",
    "    1: 'WALKING_UPSTAIRS',\n",
    "    2: 'WALKING_DOWNSTAIRS',\n",
    "    3: 'SITTING',\n",
    "    4: 'STANDING',\n",
    "    5: 'LAYING',\n",
    "}\n",
    "\n",
    "# Utility function to print the confusion matrix\n",
    "def confusion_matrix(Y_true, Y_pred):\n",
    "    Y_true = pd.Series([ACTIVITIES[y] for y in np.argmax(Y_true, axis=1)])\n",
    "    Y_pred = pd.Series([ACTIVITIES[y] for y in np.argmax(Y_pred, axis=1)])\n",
    "\n",
    "    return pd.crosstab(Y_true, Y_pred, rownames=['True'], colnames=['Pred'])"
   ]
  },
  {
   "cell_type": "markdown",
   "metadata": {
    "_uuid": "e35194ae736d2ff16860272fb40ba0bc11f5e142"
   },
   "source": [
    "### Data"
   ]
  },
  {
   "cell_type": "code",
   "execution_count": 4,
   "metadata": {
    "_uuid": "9b5d28452b128e04080775ea67d842f9a29595b2"
   },
   "outputs": [
    {
     "name": "stdout",
     "output_type": "stream",
     "text": [
      "['test', 'README.txt', '_DS_Store', 'csv_files', 'features.txt', 'features_info.txt', 'activity_labels.txt', 'train']\n"
     ]
    }
   ],
   "source": [
    "# Data directory\n",
    "import os\n",
    "print (os.listdir(\"../input/uci_har_dataset/UCI_HAR_Dataset\"))"
   ]
  },
  {
   "cell_type": "code",
   "execution_count": 5,
   "metadata": {
    "_uuid": "b29eff8bb32442ac0050ca7a8c65912e986e4568"
   },
   "outputs": [],
   "source": [
    "# Raw data signals\n",
    "# Signals are from Accelerometer and Gyroscope\n",
    "# The signals are in x,y,z directions\n",
    "# Sensor signals are filtered to have only body acceleration\n",
    "# excluding the acceleration due to gravity\n",
    "# Triaxial acceleration from the accelerometer is total acceleration\n",
    "SIGNALS = [\n",
    "    \"body_acc_x\",\n",
    "    \"body_acc_y\",\n",
    "    \"body_acc_z\",\n",
    "    \"body_gyro_x\",\n",
    "    \"body_gyro_y\",\n",
    "    \"body_gyro_z\",\n",
    "    \"total_acc_x\",\n",
    "    \"total_acc_y\",\n",
    "    \"total_acc_z\"\n",
    "]"
   ]
  },
  {
   "cell_type": "code",
   "execution_count": 6,
   "metadata": {
    "_uuid": "c8b3d4484ee7d1491dbd2f4a60feca047cd5a6c7"
   },
   "outputs": [],
   "source": [
    "# Utility function to read the data from csv file\n",
    "def _read_csv(filename):\n",
    "    return pd.read_csv(filename, delim_whitespace=True, header=None)\n",
    "\n",
    "# Utility function to load the load\n",
    "def load_signals(subset):\n",
    "    signals_data = []\n",
    "\n",
    "    for signal in SIGNALS:\n",
    "        filename = f'../input/uci_har_dataset/UCI_HAR_Dataset/{subset}/Inertial Signals/{signal}_{subset}.txt'\n",
    "        signals_data.append(\n",
    "            _read_csv(filename).as_matrix()\n",
    "        ) \n",
    "\n",
    "    # Transpose is used to change the dimensionality of the output,\n",
    "    # aggregating the signals by combination of sample/timestep.\n",
    "    # Resultant shape is (7352 train/2947 test samples, 128 timesteps, 9 signals)\n",
    "    return np.transpose(signals_data, (1, 2, 0))"
   ]
  },
  {
   "cell_type": "code",
   "execution_count": 7,
   "metadata": {
    "_uuid": "ea0433e8371ddbb0c9370543618508132dc2efe4"
   },
   "outputs": [],
   "source": [
    "\n",
    "def load_y(subset):\n",
    "    \"\"\"\n",
    "    The objective that we are trying to predict is a integer, from 1 to 6,\n",
    "    that represents a human activity. We return a binary representation of \n",
    "    every sample objective as a 6 bits vector using One Hot Encoding\n",
    "    (https://pandas.pydata.org/pandas-docs/stable/generated/pandas.get_dummies.html)\n",
    "    \"\"\"\n",
    "    filename = f'../input/uci_har_dataset/UCI_HAR_Dataset/{subset}/y_{subset}.txt'\n",
    "    y = _read_csv(filename)[0]\n",
    "\n",
    "    return pd.get_dummies(y).as_matrix()"
   ]
  },
  {
   "cell_type": "code",
   "execution_count": 8,
   "metadata": {
    "_uuid": "a324179dea917b062201b6dc0fae8e4ca73857b2"
   },
   "outputs": [],
   "source": [
    "def load_data():\n",
    "    \"\"\"\n",
    "    Obtain the dataset from multiple files.\n",
    "    Returns: X_train, X_test, y_train, y_test\n",
    "    \"\"\"\n",
    "    X_train, X_test = load_signals('train'), load_signals('test')\n",
    "    y_train, y_test = load_y('train'), load_y('test')\n",
    "\n",
    "    return X_train, X_test, y_train, y_test"
   ]
  },
  {
   "cell_type": "code",
   "execution_count": 10,
   "metadata": {
    "_uuid": "4c1ab2409f6156b03164a06eaa267b466a62b913"
   },
   "outputs": [],
   "source": [
    "# Importing tensorflow\n",
    "np.random.seed(42)\n",
    "import tensorflow as tf\n",
    "tf.set_random_seed(42)"
   ]
  },
  {
   "cell_type": "code",
   "execution_count": 11,
   "metadata": {
    "_uuid": "1e94d70c5e5b19174da3bfc2234fe4570fbd7e10"
   },
   "outputs": [],
   "source": [
    "# Configuring a session\n",
    "session_conf = tf.ConfigProto(\n",
    "    intra_op_parallelism_threads=1,\n",
    "    inter_op_parallelism_threads=1\n",
    ")"
   ]
  },
  {
   "cell_type": "code",
   "execution_count": 12,
   "metadata": {
    "_uuid": "ed11a26255890ec886ee474d459fe54d0d589934"
   },
   "outputs": [
    {
     "name": "stderr",
     "output_type": "stream",
     "text": [
      "Using TensorFlow backend.\n"
     ]
    }
   ],
   "source": [
    "# Import Keras\n",
    "from keras import backend as K\n",
    "sess = tf.Session(graph=tf.get_default_graph(), config=session_conf)\n",
    "K.set_session(sess)"
   ]
  },
  {
   "cell_type": "code",
   "execution_count": 13,
   "metadata": {
    "_uuid": "42d800b223da170c034c561ac210cb21b9f6d6e0"
   },
   "outputs": [],
   "source": [
    "# Importing libraries\n",
    "from keras.models import Sequential\n",
    "from keras.layers import LSTM\n",
    "from keras.layers.core import Dense, Dropout"
   ]
  },
  {
   "cell_type": "code",
   "execution_count": 14,
   "metadata": {
    "_uuid": "00147530ee02095c26c631857805dd2b214f493c"
   },
   "outputs": [],
   "source": [
    "# Initializing parameters\n",
    "epochs = 30\n",
    "batch_size = 16\n",
    "n_hidden = 32"
   ]
  },
  {
   "cell_type": "code",
   "execution_count": 15,
   "metadata": {
    "_uuid": "c7ea341f1c03f3ae7eda3abccb2cff19652c877b"
   },
   "outputs": [],
   "source": [
    "# Utility function to count the number of classes\n",
    "def _count_classes(y):\n",
    "    return len(set([tuple(category) for category in y]))"
   ]
  },
  {
   "cell_type": "code",
   "execution_count": 16,
   "metadata": {
    "_uuid": "93aee345d317effc783e5db3890f8bb2193c2241",
    "scrolled": true
   },
   "outputs": [
    {
     "name": "stderr",
     "output_type": "stream",
     "text": [
      "/opt/conda/lib/python3.6/site-packages/ipykernel_launcher.py:12: FutureWarning: Method .as_matrix will be removed in a future version. Use .values instead.\n",
      "  if sys.path[0] == '':\n"
     ]
    }
   ],
   "source": [
    "# Loading the train and test data\n",
    "X_train, X_test, Y_train, Y_test = load_data()"
   ]
  },
  {
   "cell_type": "code",
   "execution_count": 17,
   "metadata": {
    "_uuid": "ac677b3d2bab8db8eb87f8caa56c0501c8f60b71"
   },
   "outputs": [
    {
     "name": "stdout",
     "output_type": "stream",
     "text": [
      "128\n",
      "9\n",
      "7352\n"
     ]
    }
   ],
   "source": [
    "timesteps = len(X_train[0])\n",
    "input_dim = len(X_train[0][0])\n",
    "n_classes = _count_classes(Y_train)\n",
    "\n",
    "print(timesteps)\n",
    "print(input_dim)\n",
    "print(len(X_train))"
   ]
  },
  {
   "cell_type": "markdown",
   "metadata": {
    "_uuid": "f2153b378680b5445e6097538c7b3a9046b05e95"
   },
   "source": [
    "- Defining the Architecture of LSTM"
   ]
  },
  {
   "cell_type": "code",
   "execution_count": 18,
   "metadata": {
    "_uuid": "23938cd32b4a656298d3b9e4169da8055fff390c"
   },
   "outputs": [
    {
     "name": "stdout",
     "output_type": "stream",
     "text": [
      "_________________________________________________________________\n",
      "Layer (type)                 Output Shape              Param #   \n",
      "=================================================================\n",
      "lstm_1 (LSTM)                (None, 32)                5376      \n",
      "_________________________________________________________________\n",
      "dropout_1 (Dropout)          (None, 32)                0         \n",
      "_________________________________________________________________\n",
      "dense_1 (Dense)              (None, 6)                 198       \n",
      "=================================================================\n",
      "Total params: 5,574\n",
      "Trainable params: 5,574\n",
      "Non-trainable params: 0\n",
      "_________________________________________________________________\n"
     ]
    }
   ],
   "source": [
    "# Initiliazing the sequential model\n",
    "model = Sequential()\n",
    "# Configuring the parameters\n",
    "model.add(LSTM(n_hidden, input_shape=(timesteps, input_dim)))\n",
    "# Adding a dropout layer\n",
    "model.add(Dropout(0.5))\n",
    "# Adding a dense output layer with sigmoid activation\n",
    "model.add(Dense(n_classes, activation='sigmoid'))\n",
    "model.summary()"
   ]
  },
  {
   "cell_type": "code",
   "execution_count": 19,
   "metadata": {
    "_uuid": "8e7e48bb2480bb7aec51166ab5e3b1b81fa29cc1"
   },
   "outputs": [],
   "source": [
    "# Compiling the model\n",
    "model.compile(loss='categorical_crossentropy',\n",
    "              optimizer='rmsprop',\n",
    "              metrics=['accuracy'])"
   ]
  },
  {
   "cell_type": "code",
   "execution_count": 20,
   "metadata": {
    "_uuid": "5d41cc340a82e972264e2cf3b15befe3ae930843"
   },
   "outputs": [
    {
     "name": "stdout",
     "output_type": "stream",
     "text": [
      "Train on 7352 samples, validate on 2947 samples\n",
      "Epoch 1/30\n",
      "7352/7352 [==============================] - 85s 12ms/step - loss: 1.3296 - acc: 0.4358 - val_loss: 1.1595 - val_acc: 0.4737\n",
      "Epoch 2/30\n",
      "7352/7352 [==============================] - 82s 11ms/step - loss: 1.0021 - acc: 0.5626 - val_loss: 0.9326 - val_acc: 0.5667\n",
      "Epoch 3/30\n",
      "7352/7352 [==============================] - 81s 11ms/step - loss: 0.8065 - acc: 0.6518 - val_loss: 0.7835 - val_acc: 0.6111\n",
      "Epoch 4/30\n",
      "7352/7352 [==============================] - 80s 11ms/step - loss: 0.6917 - acc: 0.6680 - val_loss: 0.7751 - val_acc: 0.6135\n",
      "Epoch 5/30\n",
      "7352/7352 [==============================] - 82s 11ms/step - loss: 0.6580 - acc: 0.6795 - val_loss: 0.7688 - val_acc: 0.6050\n",
      "Epoch 6/30\n",
      "7352/7352 [==============================] - 80s 11ms/step - loss: 0.5934 - acc: 0.6942 - val_loss: 0.8312 - val_acc: 0.6237\n",
      "Epoch 7/30\n",
      "7352/7352 [==============================] - 80s 11ms/step - loss: 0.5726 - acc: 0.7165 - val_loss: 0.6860 - val_acc: 0.7197\n",
      "Epoch 8/30\n",
      "7352/7352 [==============================] - 79s 11ms/step - loss: 0.5440 - acc: 0.7409 - val_loss: 0.6734 - val_acc: 0.7367\n",
      "Epoch 9/30\n",
      "7352/7352 [==============================] - 81s 11ms/step - loss: 0.5275 - acc: 0.7689 - val_loss: 0.6373 - val_acc: 0.7319\n",
      "Epoch 10/30\n",
      "7352/7352 [==============================] - 81s 11ms/step - loss: 0.4758 - acc: 0.7912 - val_loss: 0.7959 - val_acc: 0.6980\n",
      "Epoch 11/30\n",
      "7352/7352 [==============================] - 80s 11ms/step - loss: 0.4588 - acc: 0.7945 - val_loss: 0.5643 - val_acc: 0.7462\n",
      "Epoch 12/30\n",
      "7352/7352 [==============================] - 81s 11ms/step - loss: 0.4100 - acc: 0.8003 - val_loss: 0.7035 - val_acc: 0.7279\n",
      "Epoch 13/30\n",
      "7352/7352 [==============================] - 83s 11ms/step - loss: 0.3722 - acc: 0.8251 - val_loss: 0.6135 - val_acc: 0.7428\n",
      "Epoch 14/30\n",
      "7352/7352 [==============================] - 81s 11ms/step - loss: 0.3498 - acc: 0.8568 - val_loss: 0.5481 - val_acc: 0.8470\n",
      "Epoch 15/30\n",
      "7352/7352 [==============================] - 81s 11ms/step - loss: 0.3320 - acc: 0.8837 - val_loss: 0.5809 - val_acc: 0.8639\n",
      "Epoch 16/30\n",
      "7352/7352 [==============================] - 82s 11ms/step - loss: 0.3011 - acc: 0.9125 - val_loss: 0.5030 - val_acc: 0.8470\n",
      "Epoch 17/30\n",
      "7352/7352 [==============================] - 81s 11ms/step - loss: 0.2537 - acc: 0.9276 - val_loss: 0.4787 - val_acc: 0.8765\n",
      "Epoch 18/30\n",
      "7352/7352 [==============================] - 81s 11ms/step - loss: 0.2226 - acc: 0.9338 - val_loss: 0.4919 - val_acc: 0.8751\n",
      "Epoch 19/30\n",
      "7352/7352 [==============================] - 80s 11ms/step - loss: 0.2168 - acc: 0.9319 - val_loss: 0.5114 - val_acc: 0.8690\n",
      "Epoch 20/30\n",
      "7352/7352 [==============================] - 84s 11ms/step - loss: 0.1970 - acc: 0.9403 - val_loss: 0.4687 - val_acc: 0.8843\n",
      "Epoch 21/30\n",
      "7352/7352 [==============================] - 83s 11ms/step - loss: 0.1983 - acc: 0.9393 - val_loss: 0.5440 - val_acc: 0.8846\n",
      "Epoch 22/30\n",
      "7352/7352 [==============================] - 83s 11ms/step - loss: 0.1956 - acc: 0.9411 - val_loss: 0.6663 - val_acc: 0.8616\n",
      "Epoch 23/30\n",
      "7352/7352 [==============================] - 83s 11ms/step - loss: 0.2225 - acc: 0.9334 - val_loss: 0.5446 - val_acc: 0.8758\n",
      "Epoch 24/30\n",
      "7352/7352 [==============================] - 85s 12ms/step - loss: 0.1994 - acc: 0.9427 - val_loss: 0.4628 - val_acc: 0.8877\n",
      "Epoch 25/30\n",
      "7352/7352 [==============================] - 83s 11ms/step - loss: 0.1786 - acc: 0.9426 - val_loss: 0.6977 - val_acc: 0.8663\n",
      "Epoch 26/30\n",
      "7352/7352 [==============================] - 83s 11ms/step - loss: 0.1845 - acc: 0.9404 - val_loss: 0.7744 - val_acc: 0.8239\n",
      "Epoch 27/30\n",
      "7352/7352 [==============================] - 83s 11ms/step - loss: 0.2067 - acc: 0.9391 - val_loss: 0.5710 - val_acc: 0.8836\n",
      "Epoch 28/30\n",
      "7352/7352 [==============================] - 85s 12ms/step - loss: 0.1596 - acc: 0.9449 - val_loss: 0.5349 - val_acc: 0.8860\n",
      "Epoch 29/30\n",
      "7352/7352 [==============================] - 83s 11ms/step - loss: 0.1571 - acc: 0.9465 - val_loss: 0.5900 - val_acc: 0.8904\n",
      "Epoch 30/30\n",
      "7352/7352 [==============================] - 83s 11ms/step - loss: 0.1482 - acc: 0.9483 - val_loss: 0.4742 - val_acc: 0.9009\n"
     ]
    }
   ],
   "source": [
    "# Training the model\n",
    "history = model.fit(X_train,\n",
    "          Y_train,\n",
    "          batch_size=batch_size,\n",
    "          validation_data=(X_test, Y_test),\n",
    "          epochs=epochs)"
   ]
  },
  {
   "cell_type": "code",
   "execution_count": 21,
   "metadata": {
    "_uuid": "d0e86149aeca2332363717aff3a1f222f746022f"
   },
   "outputs": [
    {
     "name": "stdout",
     "output_type": "stream",
     "text": [
      "Pred                LAYING        ...         WALKING_UPSTAIRS\n",
      "True                              ...                         \n",
      "LAYING                 508        ...                        0\n",
      "SITTING                  0        ...                        3\n",
      "STANDING                 0        ...                        0\n",
      "WALKING                  0        ...                       22\n",
      "WALKING_DOWNSTAIRS       0        ...                       22\n",
      "WALKING_UPSTAIRS         0        ...                      433\n",
      "\n",
      "[6 rows x 6 columns]\n"
     ]
    }
   ],
   "source": [
    "# Confusion Matrix\n",
    "print(confusion_matrix(Y_test, model.predict(X_test)))"
   ]
  },
  {
   "cell_type": "code",
   "execution_count": 22,
   "metadata": {
    "_uuid": "c72939b4e9e9a9e58e0f4ede8826ae1076df2351"
   },
   "outputs": [
    {
     "name": "stdout",
     "output_type": "stream",
     "text": [
      "2947/2947 [==============================] - 6s 2ms/step\n"
     ]
    }
   ],
   "source": [
    "score = model.evaluate(X_test, Y_test)"
   ]
  },
  {
   "cell_type": "code",
   "execution_count": 23,
   "metadata": {
    "_uuid": "e94a4bbadd9ca2f6e8cac2856e39ca0c2eb75828"
   },
   "outputs": [
    {
     "data": {
      "text/plain": [
       "[0.4742050037249046, 0.9009161859518154]"
      ]
     },
     "execution_count": 23,
     "metadata": {},
     "output_type": "execute_result"
    }
   ],
   "source": [
    "score"
   ]
  },
  {
   "cell_type": "code",
   "execution_count": 24,
   "metadata": {
    "_uuid": "5d447d80c984f8f16bfcbeaea40e8ab5101bd63c"
   },
   "outputs": [
    {
     "name": "stdout",
     "output_type": "stream",
     "text": [
      "Test score: 0.4742050037249046\n",
      "Test accuracy: 0.9009161859518154\n"
     ]
    },
    {
     "data": {
      "image/png": "[encoded data removed]",
      "text/plain": [
       "<Figure size 432x288 with 1 Axes>"
      ]
     },
     "metadata": {},
     "output_type": "display_data"
    }
   ],
   "source": [
    "score = model.evaluate(X_test, Y_test, verbose=0) \n",
    "print('Test score:', score[0]) \n",
    "print('Test accuracy:', score[1])\n",
    "\n",
    "nb_epoch = 30\n",
    "fig,ax = plt.subplots(1,1)\n",
    "ax.set_xlabel('epoch') ; ax.set_ylabel('Categorical Crossentropy Loss')\n",
    "\n",
    "# list of epoch numbers\n",
    "x = list(range(1,nb_epoch+1))\n",
    "\n",
    "# print(history.history.keys())\n",
    "# dict_keys(['val_loss', 'val_acc', 'loss', 'acc'])\n",
    "# history = model_drop.fit(X_train, Y_train, batch_size=batch_size, epochs=nb_epoch, verbose=1, validation_data=(X_test, Y_test))\n",
    "\n",
    "# we will get val_loss and val_acc only when you pass the paramter validation_data\n",
    "# val_loss : validation loss\n",
    "# val_acc : validation accuracy\n",
    "\n",
    "# loss : training loss\n",
    "# acc : train accuracy\n",
    "# for each key in histrory.histrory we will have a list of length equal to number of epochs\n",
    "\n",
    "\n",
    "vy = history.history['val_loss']\n",
    "ty = history.history['loss']\n",
    "plt_dynamic(x, vy, ty, ax)"
   ]
  },
  {
   "cell_type": "markdown",
   "metadata": {
    "_uuid": "0fb0c1af4aca4e4c4acad1c5558b8218272e98bc"
   },
   "source": [
    "- With a simple 2 layer architecture we got 89.31% accuracy and a loss of 0.53\n",
    "- We can further imporve the performace with Hyperparameter tuning"
   ]
  },
  {
   "cell_type": "code",
   "execution_count": 25,
   "metadata": {
    "_uuid": "bbdc42dacdf8614b156b99b7b17f2c12be576641"
   },
   "outputs": [],
   "source": [
    "# experiment 1 - increase n_hidden layers to see if we can incerase the accuracy of the model"
   ]
  },
  {
   "cell_type": "code",
   "execution_count": 26,
   "metadata": {
    "_uuid": "24f97cc9354cf455f6c19983fc60b23d9b8dd0fc"
   },
   "outputs": [
    {
     "name": "stdout",
     "output_type": "stream",
     "text": [
      "_________________________________________________________________\n",
      "Layer (type)                 Output Shape              Param #   \n",
      "=================================================================\n",
      "lstm_2 (LSTM)                (None, 64)                18944     \n",
      "_________________________________________________________________\n",
      "dropout_2 (Dropout)          (None, 64)                0         \n",
      "_________________________________________________________________\n",
      "dense_2 (Dense)              (None, 6)                 390       \n",
      "=================================================================\n",
      "Total params: 19,334\n",
      "Trainable params: 19,334\n",
      "Non-trainable params: 0\n",
      "_________________________________________________________________\n"
     ]
    }
   ],
   "source": [
    "n_hidden = 64\n",
    "# Initiliazing the sequential model\n",
    "model = Sequential()\n",
    "# Configuring the parameters\n",
    "model.add(LSTM(n_hidden, input_shape=(timesteps, input_dim)))\n",
    "# Adding a dropout layer\n",
    "model.add(Dropout(0.5))\n",
    "# Adding a dense output layer with sigmoid activation\n",
    "model.add(Dense(n_classes, activation='sigmoid'))\n",
    "model.summary()"
   ]
  },
  {
   "cell_type": "code",
   "execution_count": 27,
   "metadata": {
    "_uuid": "462483bd3a1c7ecd16bc10726d714328e5db691d"
   },
   "outputs": [],
   "source": [
    "# Compiling the model\n",
    "model.compile(loss='categorical_crossentropy',\n",
    "              optimizer='rmsprop',\n",
    "              metrics=['accuracy'])"
   ]
  },
  {
   "cell_type": "code",
   "execution_count": 28,
   "metadata": {
    "_uuid": "a7d34af0c534b3bd227dd273ee5158d933654f5a"
   },
   "outputs": [
    {
     "name": "stdout",
     "output_type": "stream",
     "text": [
      "Train on 7352 samples, validate on 2947 samples\n",
      "Epoch 1/30\n",
      "7352/7352 [==============================] - 86s 12ms/step - loss: 1.2618 - acc: 0.4338 - val_loss: 1.3960 - val_acc: 0.3451\n",
      "Epoch 2/30\n",
      "7352/7352 [==============================] - 83s 11ms/step - loss: 1.0835 - acc: 0.5195 - val_loss: 1.0707 - val_acc: 0.5310\n",
      "Epoch 3/30\n",
      "7352/7352 [==============================] - 83s 11ms/step - loss: 0.9083 - acc: 0.5846 - val_loss: 0.8354 - val_acc: 0.6274\n",
      "Epoch 4/30\n",
      "7352/7352 [==============================] - 83s 11ms/step - loss: 0.7491 - acc: 0.6623 - val_loss: 0.7822 - val_acc: 0.6464\n",
      "Epoch 5/30\n",
      "7352/7352 [==============================] - 84s 11ms/step - loss: 0.6142 - acc: 0.7534 - val_loss: 0.6764 - val_acc: 0.7601\n",
      "Epoch 6/30\n",
      "7352/7352 [==============================] - 83s 11ms/step - loss: 0.4264 - acc: 0.8575 - val_loss: 0.4614 - val_acc: 0.8537\n",
      "Epoch 7/30\n",
      "7352/7352 [==============================] - 83s 11ms/step - loss: 0.3264 - acc: 0.8947 - val_loss: 0.4077 - val_acc: 0.8795\n",
      "Epoch 8/30\n",
      "7352/7352 [==============================] - 84s 11ms/step - loss: 0.3025 - acc: 0.9033 - val_loss: 0.3949 - val_acc: 0.8419\n",
      "Epoch 9/30\n",
      "7352/7352 [==============================] - 85s 11ms/step - loss: 0.2693 - acc: 0.9191 - val_loss: 0.2784 - val_acc: 0.8992\n",
      "Epoch 10/30\n",
      "7352/7352 [==============================] - 83s 11ms/step - loss: 0.2132 - acc: 0.9312 - val_loss: 0.3149 - val_acc: 0.8951\n",
      "Epoch 11/30\n",
      "7352/7352 [==============================] - 83s 11ms/step - loss: 0.2296 - acc: 0.9253 - val_loss: 0.2732 - val_acc: 0.8907\n",
      "Epoch 12/30\n",
      "7352/7352 [==============================] - 86s 12ms/step - loss: 0.2127 - acc: 0.9271 - val_loss: 0.3084 - val_acc: 0.8962\n",
      "Epoch 13/30\n",
      "7352/7352 [==============================] - 84s 11ms/step - loss: 0.1806 - acc: 0.9411 - val_loss: 0.2644 - val_acc: 0.9094\n",
      "Epoch 14/30\n",
      "7352/7352 [==============================] - 84s 11ms/step - loss: 0.1865 - acc: 0.9376 - val_loss: 0.2640 - val_acc: 0.9057\n",
      "Epoch 15/30\n",
      "7352/7352 [==============================] - 82s 11ms/step - loss: 0.1586 - acc: 0.9423 - val_loss: 0.2497 - val_acc: 0.9196\n",
      "Epoch 16/30\n",
      "7352/7352 [==============================] - 83s 11ms/step - loss: 0.1735 - acc: 0.9449 - val_loss: 0.2742 - val_acc: 0.9216\n",
      "Epoch 17/30\n",
      "7352/7352 [==============================] - 81s 11ms/step - loss: 0.1523 - acc: 0.9442 - val_loss: 0.2746 - val_acc: 0.9165\n",
      "Epoch 18/30\n",
      "7352/7352 [==============================] - 83s 11ms/step - loss: 0.2005 - acc: 0.9331 - val_loss: 0.3060 - val_acc: 0.9043\n",
      "Epoch 19/30\n",
      "7352/7352 [==============================] - 84s 11ms/step - loss: 0.1577 - acc: 0.9419 - val_loss: 0.3016 - val_acc: 0.9104\n",
      "Epoch 20/30\n",
      "7352/7352 [==============================] - 83s 11ms/step - loss: 0.1566 - acc: 0.9471 - val_loss: 0.3864 - val_acc: 0.9148\n",
      "Epoch 21/30\n",
      "7352/7352 [==============================] - 81s 11ms/step - loss: 0.1467 - acc: 0.9497 - val_loss: 0.3031 - val_acc: 0.9240\n",
      "Epoch 22/30\n",
      "7352/7352 [==============================] - 81s 11ms/step - loss: 0.1613 - acc: 0.9475 - val_loss: 0.3773 - val_acc: 0.9209\n",
      "Epoch 23/30\n",
      "7352/7352 [==============================] - 83s 11ms/step - loss: 0.1995 - acc: 0.9399 - val_loss: 0.3501 - val_acc: 0.9152\n",
      "Epoch 24/30\n",
      "7352/7352 [==============================] - 82s 11ms/step - loss: 0.1724 - acc: 0.9440 - val_loss: 0.5890 - val_acc: 0.8846\n",
      "Epoch 25/30\n",
      "7352/7352 [==============================] - 81s 11ms/step - loss: 0.1475 - acc: 0.9493 - val_loss: 0.2944 - val_acc: 0.9084\n",
      "Epoch 26/30\n",
      "7352/7352 [==============================] - 81s 11ms/step - loss: 0.1408 - acc: 0.9517 - val_loss: 0.2482 - val_acc: 0.9206\n",
      "Epoch 27/30\n",
      "7352/7352 [==============================] - 83s 11ms/step - loss: 0.1415 - acc: 0.9499 - val_loss: 0.3390 - val_acc: 0.9040\n",
      "Epoch 28/30\n",
      "7352/7352 [==============================] - 81s 11ms/step - loss: 0.1426 - acc: 0.9474 - val_loss: 0.3982 - val_acc: 0.9152\n",
      "Epoch 29/30\n",
      "7352/7352 [==============================] - 82s 11ms/step - loss: 0.1429 - acc: 0.9486 - val_loss: 0.3346 - val_acc: 0.9108\n",
      "Epoch 30/30\n",
      "7352/7352 [==============================] - 83s 11ms/step - loss: 0.1479 - acc: 0.9459 - val_loss: 0.4245 - val_acc: 0.9158\n"
     ]
    }
   ],
   "source": [
    "# Training the model\n",
    "history = model.fit(X_train,\n",
    "          Y_train,\n",
    "          batch_size=batch_size,\n",
    "          validation_data=(X_test, Y_test),\n",
    "          epochs=epochs)"
   ]
  },
  {
   "cell_type": "code",
   "execution_count": 29,
   "metadata": {
    "_uuid": "e9283310d458bb82948d054fc5ed0fd1abcadc21"
   },
   "outputs": [
    {
     "name": "stdout",
     "output_type": "stream",
     "text": [
      "Pred                LAYING        ...         WALKING_UPSTAIRS\n",
      "True                              ...                         \n",
      "LAYING                 537        ...                        0\n",
      "SITTING                  0        ...                        3\n",
      "STANDING                 0        ...                        0\n",
      "WALKING                  0        ...                       33\n",
      "WALKING_DOWNSTAIRS       0        ...                        1\n",
      "WALKING_UPSTAIRS         0        ...                      457\n",
      "\n",
      "[6 rows x 6 columns]\n"
     ]
    }
   ],
   "source": [
    "# Confusion Matrix\n",
    "print(confusion_matrix(Y_test, model.predict(X_test)))"
   ]
  },
  {
   "cell_type": "code",
   "execution_count": 30,
   "metadata": {
    "_uuid": "38d901e8fdb7c9755541d53bd3e1d58b158675de"
   },
   "outputs": [
    {
     "name": "stdout",
     "output_type": "stream",
     "text": [
      "2947/2947 [==============================] - 6s 2ms/step\n"
     ]
    }
   ],
   "source": [
    "score = model.evaluate(X_test, Y_test)"
   ]
  },
  {
   "cell_type": "code",
   "execution_count": 31,
   "metadata": {
    "_uuid": "1c4f56f8b6dc63c2b8a1a9ca8c147af2823868f8"
   },
   "outputs": [
    {
     "data": {
      "text/plain": [
       "[0.42448869158405805, 0.9158466236851035]"
      ]
     },
     "execution_count": 31,
     "metadata": {},
     "output_type": "execute_result"
    }
   ],
   "source": [
    "score"
   ]
  },
  {
   "cell_type": "code",
   "execution_count": 32,
   "metadata": {
    "_uuid": "62595106a9874872726be5450228a21ec23aa255"
   },
   "outputs": [
    {
     "name": "stdout",
     "output_type": "stream",
     "text": [
      "Test score: 0.42448869158405805\n",
      "Test accuracy: 0.9158466236851035\n"
     ]
    },
    {
     "data": {
      "image/png": "[encoded data removed]",
      "text/plain": [
       "<Figure size 432x288 with 1 Axes>"
      ]
     },
     "metadata": {},
     "output_type": "display_data"
    }
   ],
   "source": [
    "score = model.evaluate(X_test, Y_test, verbose=0) \n",
    "print('Test score:', score[0]) \n",
    "print('Test accuracy:', score[1])\n",
    "\n",
    "nb_epoch = 30\n",
    "fig,ax = plt.subplots(1,1)\n",
    "ax.set_xlabel('epoch') ; ax.set_ylabel('Categorical Crossentropy Loss')\n",
    "\n",
    "# list of epoch numbers\n",
    "x = list(range(1,nb_epoch+1))\n",
    "\n",
    "# print(history.history.keys())\n",
    "# dict_keys(['val_loss', 'val_acc', 'loss', 'acc'])\n",
    "# history = model_drop.fit(X_train, Y_train, batch_size=batch_size, epochs=nb_epoch, verbose=1, validation_data=(X_test, Y_test))\n",
    "\n",
    "# we will get val_loss and val_acc only when you pass the paramter validation_data\n",
    "# val_loss : validation loss\n",
    "# val_acc : validation accuracy\n",
    "\n",
    "# loss : training loss\n",
    "# acc : train accuracy\n",
    "# for each key in histrory.histrory we will have a list of length equal to number of epochs\n",
    "\n",
    "\n",
    "vy = history.history['val_loss']\n",
    "ty = history.history['loss']\n",
    "plt_dynamic(x, vy, ty, ax)"
   ]
  },
  {
   "cell_type": "markdown",
   "metadata": {
    "_uuid": "19559c5fe1e2ec17a6cf0e17e6eb3f4339722640"
   },
   "source": [
    "- With 64 nodes we got 91.27% accuracy and a loss of 0.40 on test set, as we can see it increased almost 2% in test accuracy."
   ]
  },
  {
   "cell_type": "code",
   "execution_count": 33,
   "metadata": {
    "_uuid": "4b718856f2b563623fccbf773ef66d1c61a07633"
   },
   "outputs": [],
   "source": [
    "# experiment 2 -now keeping the n_hidden = 32 we increase the dropout rate to see if we observe \n",
    "# its effect on accuracy"
   ]
  },
  {
   "cell_type": "code",
   "execution_count": 34,
   "metadata": {
    "_uuid": "d68342bf53887b4838a19655619234caf15fbd16"
   },
   "outputs": [
    {
     "name": "stdout",
     "output_type": "stream",
     "text": [
      "_________________________________________________________________\n",
      "Layer (type)                 Output Shape              Param #   \n",
      "=================================================================\n",
      "lstm_3 (LSTM)                (None, 32)                5376      \n",
      "_________________________________________________________________\n",
      "dropout_3 (Dropout)          (None, 32)                0         \n",
      "_________________________________________________________________\n",
      "dense_3 (Dense)              (None, 6)                 198       \n",
      "=================================================================\n",
      "Total params: 5,574\n",
      "Trainable params: 5,574\n",
      "Non-trainable params: 0\n",
      "_________________________________________________________________\n"
     ]
    }
   ],
   "source": [
    "n_hidden = 32\n",
    "# Initiliazing the sequential model\n",
    "model = Sequential()\n",
    "# Configuring the parameters\n",
    "model.add(LSTM(n_hidden, input_shape=(timesteps, input_dim)))\n",
    "# Adding a dropout layer\n",
    "model.add(Dropout(0.8))\n",
    "# Adding a dense output layer with sigmoid activation\n",
    "model.add(Dense(n_classes, activation='sigmoid'))\n",
    "model.summary()"
   ]
  },
  {
   "cell_type": "code",
   "execution_count": 35,
   "metadata": {
    "_uuid": "a73fc625c1258a7127cb658290c944956bb50819"
   },
   "outputs": [],
   "source": [
    "# Compiling the model\n",
    "model.compile(loss='categorical_crossentropy',\n",
    "              optimizer='rmsprop',\n",
    "              metrics=['accuracy'])"
   ]
  },
  {
   "cell_type": "code",
   "execution_count": 36,
   "metadata": {
    "_uuid": "9256b8b3ab1e4030e0b30ae41674772e798e0a20"
   },
   "outputs": [
    {
     "name": "stdout",
     "output_type": "stream",
     "text": [
      "Train on 7352 samples, validate on 2947 samples\n",
      "Epoch 1/30\n",
      "7352/7352 [==============================] - 85s 12ms/step - loss: 1.5132 - acc: 0.3383 - val_loss: 1.3459 - val_acc: 0.3695\n",
      "Epoch 2/30\n",
      "7352/7352 [==============================] - 84s 11ms/step - loss: 1.2444 - acc: 0.4610 - val_loss: 1.1792 - val_acc: 0.4652\n",
      "Epoch 3/30\n",
      "7352/7352 [==============================] - 83s 11ms/step - loss: 1.1636 - acc: 0.4819 - val_loss: 1.0971 - val_acc: 0.4791\n",
      "Epoch 4/30\n",
      "7352/7352 [==============================] - 84s 11ms/step - loss: 1.0942 - acc: 0.4993 - val_loss: 1.0629 - val_acc: 0.5310\n",
      "Epoch 5/30\n",
      "7352/7352 [==============================] - 85s 12ms/step - loss: 1.0531 - acc: 0.5156 - val_loss: 1.0525 - val_acc: 0.5199\n",
      "Epoch 6/30\n",
      "7352/7352 [==============================] - 83s 11ms/step - loss: 1.0005 - acc: 0.5456 - val_loss: 0.9198 - val_acc: 0.5579\n",
      "Epoch 7/30\n",
      "7352/7352 [==============================] - 84s 11ms/step - loss: 1.0164 - acc: 0.5462 - val_loss: 0.9133 - val_acc: 0.5789\n",
      "Epoch 8/30\n",
      "7352/7352 [==============================] - 86s 12ms/step - loss: 0.9634 - acc: 0.5607 - val_loss: 1.0870 - val_acc: 0.4764\n",
      "Epoch 9/30\n",
      "7352/7352 [==============================] - 83s 11ms/step - loss: 0.9334 - acc: 0.5860 - val_loss: 0.7851 - val_acc: 0.6138\n",
      "Epoch 10/30\n",
      "7352/7352 [==============================] - 83s 11ms/step - loss: 0.8201 - acc: 0.6281 - val_loss: 0.7723 - val_acc: 0.6162\n",
      "Epoch 11/30\n",
      "7352/7352 [==============================] - 84s 11ms/step - loss: 0.7867 - acc: 0.6385 - val_loss: 0.7186 - val_acc: 0.6220\n",
      "Epoch 12/30\n",
      "7352/7352 [==============================] - 85s 12ms/step - loss: 0.7768 - acc: 0.6455 - val_loss: 0.7804 - val_acc: 0.6067\n",
      "Epoch 13/30\n",
      "7352/7352 [==============================] - 83s 11ms/step - loss: 0.7830 - acc: 0.6547 - val_loss: 0.8021 - val_acc: 0.6542\n",
      "Epoch 14/30\n",
      "7352/7352 [==============================] - 83s 11ms/step - loss: 0.7538 - acc: 0.6676 - val_loss: 0.8479 - val_acc: 0.6705\n",
      "Epoch 15/30\n",
      "7352/7352 [==============================] - 84s 11ms/step - loss: 0.7248 - acc: 0.6931 - val_loss: 0.8520 - val_acc: 0.7116\n",
      "Epoch 16/30\n",
      "7352/7352 [==============================] - 85s 12ms/step - loss: 0.6993 - acc: 0.7108 - val_loss: 0.6806 - val_acc: 0.7173\n",
      "Epoch 17/30\n",
      "7352/7352 [==============================] - 83s 11ms/step - loss: 0.7190 - acc: 0.7228 - val_loss: 0.6988 - val_acc: 0.7044\n",
      "Epoch 18/30\n",
      "7352/7352 [==============================] - 83s 11ms/step - loss: 0.6450 - acc: 0.7342 - val_loss: 0.5353 - val_acc: 0.7574\n",
      "Epoch 19/30\n",
      "7352/7352 [==============================] - 85s 12ms/step - loss: 0.5989 - acc: 0.7463 - val_loss: 0.5974 - val_acc: 0.7346\n",
      "Epoch 20/30\n",
      "7352/7352 [==============================] - 83s 11ms/step - loss: 0.5864 - acc: 0.7482 - val_loss: 0.5776 - val_acc: 0.7428\n",
      "Epoch 21/30\n",
      "7352/7352 [==============================] - 83s 11ms/step - loss: 0.5676 - acc: 0.7486 - val_loss: 0.5337 - val_acc: 0.7536\n",
      "Epoch 22/30\n",
      "7352/7352 [==============================] - 84s 11ms/step - loss: 0.5616 - acc: 0.7497 - val_loss: 0.6157 - val_acc: 0.7452\n",
      "Epoch 23/30\n",
      "7352/7352 [==============================] - 85s 12ms/step - loss: 0.5366 - acc: 0.7560 - val_loss: 0.5492 - val_acc: 0.7591\n",
      "Epoch 24/30\n",
      "7352/7352 [==============================] - 83s 11ms/step - loss: 0.5541 - acc: 0.7539 - val_loss: 0.5804 - val_acc: 0.7533\n",
      "Epoch 25/30\n",
      "7352/7352 [==============================] - 83s 11ms/step - loss: 0.5471 - acc: 0.7510 - val_loss: 0.5817 - val_acc: 0.7506\n",
      "Epoch 26/30\n",
      "7352/7352 [==============================] - 82s 11ms/step - loss: 0.5394 - acc: 0.7526 - val_loss: 0.6631 - val_acc: 0.7289\n",
      "Epoch 27/30\n",
      "7352/7352 [==============================] - 82s 11ms/step - loss: 0.5494 - acc: 0.7503 - val_loss: 0.5785 - val_acc: 0.7540\n",
      "Epoch 28/30\n",
      "7352/7352 [==============================] - 83s 11ms/step - loss: 0.5352 - acc: 0.7524 - val_loss: 0.7456 - val_acc: 0.7268\n",
      "Epoch 29/30\n",
      "7352/7352 [==============================] - 83s 11ms/step - loss: 0.5222 - acc: 0.7631 - val_loss: 0.5836 - val_acc: 0.7346\n",
      "Epoch 30/30\n",
      "7352/7352 [==============================] - 82s 11ms/step - loss: 0.5504 - acc: 0.7626 - val_loss: 0.5253 - val_acc: 0.7462\n"
     ]
    }
   ],
   "source": [
    "# Training the model\n",
    "history = model.fit(X_train,\n",
    "          Y_train,\n",
    "          batch_size=batch_size,\n",
    "          validation_data=(X_test, Y_test),\n",
    "          epochs=epochs)"
   ]
  },
  {
   "cell_type": "code",
   "execution_count": 37,
   "metadata": {
    "_uuid": "8651bc3955eb4038b2d9af325411f1239c0f5278"
   },
   "outputs": [
    {
     "name": "stdout",
     "output_type": "stream",
     "text": [
      "Pred                LAYING        ...         WALKING_UPSTAIRS\n",
      "True                              ...                         \n",
      "LAYING                 517        ...                        0\n",
      "SITTING                  2        ...                        0\n",
      "STANDING                 0        ...                        0\n",
      "WALKING                  0        ...                        0\n",
      "WALKING_DOWNSTAIRS       1        ...                        0\n",
      "WALKING_UPSTAIRS         0        ...                        3\n",
      "\n",
      "[6 rows x 6 columns]\n"
     ]
    }
   ],
   "source": [
    "# Confusion Matrix\n",
    "print(confusion_matrix(Y_test, model.predict(X_test)))"
   ]
  },
  {
   "cell_type": "code",
   "execution_count": 38,
   "metadata": {
    "_uuid": "8509449b127d106fc258245294d73da24764d454"
   },
   "outputs": [
    {
     "name": "stdout",
     "output_type": "stream",
     "text": [
      "2947/2947 [==============================] - 6s 2ms/step\n"
     ]
    }
   ],
   "source": [
    "score = model.evaluate(X_test, Y_test)"
   ]
  },
  {
   "cell_type": "code",
   "execution_count": 39,
   "metadata": {
    "_uuid": "0dc207070f2c55a509114069b097ddfd5d605c93"
   },
   "outputs": [
    {
     "data": {
      "text/plain": [
       "[0.5252776635089567, 0.7461825585341024]"
      ]
     },
     "execution_count": 39,
     "metadata": {},
     "output_type": "execute_result"
    }
   ],
   "source": [
    "score"
   ]
  },
  {
   "cell_type": "code",
   "execution_count": 40,
   "metadata": {
    "_uuid": "e623a64a586786de773c41c27ad581462f8986fb"
   },
   "outputs": [
    {
     "name": "stdout",
     "output_type": "stream",
     "text": [
      "Test score: 0.5252776635089567\n",
      "Test accuracy: 0.7461825585341024\n"
     ]
    },
    {
     "data": {
      "image/png": "[encoded data removed]",
      "text/plain": [
       "<Figure size 432x288 with 1 Axes>"
      ]
     },
     "metadata": {},
     "output_type": "display_data"
    }
   ],
   "source": [
    "score = model.evaluate(X_test, Y_test, verbose=0) \n",
    "print('Test score:', score[0]) \n",
    "print('Test accuracy:', score[1])\n",
    "\n",
    "nb_epoch = 30\n",
    "fig,ax = plt.subplots(1,1)\n",
    "ax.set_xlabel('epoch') ; ax.set_ylabel('Categorical Crossentropy Loss')\n",
    "\n",
    "# list of epoch numbers\n",
    "x = list(range(1,nb_epoch+1))\n",
    "\n",
    "# print(history.history.keys())\n",
    "# dict_keys(['val_loss', 'val_acc', 'loss', 'acc'])\n",
    "# history = model_drop.fit(X_train, Y_train, batch_size=batch_size, epochs=nb_epoch, verbose=1, validation_data=(X_test, Y_test))\n",
    "\n",
    "# we will get val_loss and val_acc only when you pass the paramter validation_data\n",
    "# val_loss : validation loss\n",
    "# val_acc : validation accuracy\n",
    "\n",
    "# loss : training loss\n",
    "# acc : train accuracy\n",
    "# for each key in histrory.histrory we will have a list of length equal to number of epochs\n",
    "\n",
    "\n",
    "vy = history.history['val_loss']\n",
    "ty = history.history['loss']\n",
    "plt_dynamic(x, vy, ty, ax)"
   ]
  },
  {
   "cell_type": "markdown",
   "metadata": {
    "_uuid": "58caf541ca32684dee4b64d6871207e7f38a2007"
   },
   "source": [
    "- We can see as we increased the dropout rate to 0.8 the accuracy of the model decreased to 67.69%  and loss increase to 0.73"
   ]
  },
  {
   "cell_type": "code",
   "execution_count": 41,
   "metadata": {
    "_uuid": "cb5c108b527571136dd5a998dd2d418fc4bab21d"
   },
   "outputs": [
    {
     "name": "stdout",
     "output_type": "stream",
     "text": [
      "_________________________________________________________________\n",
      "Layer (type)                 Output Shape              Param #   \n",
      "=================================================================\n",
      "lstm_4 (LSTM)                (None, 32)                5376      \n",
      "_________________________________________________________________\n",
      "dropout_4 (Dropout)          (None, 32)                0         \n",
      "_________________________________________________________________\n",
      "dense_4 (Dense)              (None, 6)                 198       \n",
      "=================================================================\n",
      "Total params: 5,574\n",
      "Trainable params: 5,574\n",
      "Non-trainable params: 0\n",
      "_________________________________________________________________\n"
     ]
    }
   ],
   "source": [
    "n_hidden = 32\n",
    "# Initiliazing the sequential model\n",
    "model = Sequential()\n",
    "# Configuring the parameters\n",
    "model.add(LSTM(n_hidden, input_shape=(timesteps, input_dim)))\n",
    "# Adding a dropout layer\n",
    "model.add(Dropout(0.3))\n",
    "# Adding a dense output layer with sigmoid activation\n",
    "model.add(Dense(n_classes, activation='sigmoid'))\n",
    "model.summary()"
   ]
  },
  {
   "cell_type": "code",
   "execution_count": 42,
   "metadata": {
    "_uuid": "b0b490cc73a8b91d7718c90391d4c5a2b4f4c3be"
   },
   "outputs": [],
   "source": [
    "# Compiling the model\n",
    "model.compile(loss='categorical_crossentropy',\n",
    "              optimizer='rmsprop',\n",
    "              metrics=['accuracy'])"
   ]
  },
  {
   "cell_type": "code",
   "execution_count": 43,
   "metadata": {
    "_uuid": "e4587a223cbb38a578423bac5aba06d68467aad8"
   },
   "outputs": [
    {
     "name": "stdout",
     "output_type": "stream",
     "text": [
      "Train on 7352 samples, validate on 2947 samples\n",
      "Epoch 1/30\n",
      "7352/7352 [==============================] - 82s 11ms/step - loss: 1.2564 - acc: 0.4678 - val_loss: 1.0668 - val_acc: 0.5602\n",
      "Epoch 2/30\n",
      "7352/7352 [==============================] - 81s 11ms/step - loss: 0.9296 - acc: 0.5918 - val_loss: 0.8612 - val_acc: 0.6135\n",
      "Epoch 3/30\n",
      "7352/7352 [==============================] - 81s 11ms/step - loss: 0.7798 - acc: 0.6372 - val_loss: 0.7487 - val_acc: 0.6352\n",
      "Epoch 4/30\n",
      "7352/7352 [==============================] - 83s 11ms/step - loss: 0.6894 - acc: 0.6725 - val_loss: 0.7777 - val_acc: 0.6247\n",
      "Epoch 5/30\n",
      "7352/7352 [==============================] - 81s 11ms/step - loss: 0.6221 - acc: 0.7243 - val_loss: 0.6411 - val_acc: 0.7424\n",
      "Epoch 6/30\n",
      "7352/7352 [==============================] - 81s 11ms/step - loss: 0.5446 - acc: 0.7946 - val_loss: 0.5400 - val_acc: 0.7896\n",
      "Epoch 7/30\n",
      "7352/7352 [==============================] - 81s 11ms/step - loss: 0.4518 - acc: 0.8536 - val_loss: 0.4766 - val_acc: 0.8358\n",
      "Epoch 8/30\n",
      "7352/7352 [==============================] - 83s 11ms/step - loss: 0.3853 - acc: 0.8842 - val_loss: 0.5519 - val_acc: 0.8300\n",
      "Epoch 9/30\n",
      "7352/7352 [==============================] - 84s 11ms/step - loss: 0.3338 - acc: 0.9033 - val_loss: 0.4635 - val_acc: 0.8541\n",
      "Epoch 10/30\n",
      "7352/7352 [==============================] - 84s 11ms/step - loss: 0.3042 - acc: 0.9068 - val_loss: 0.4035 - val_acc: 0.8799\n",
      "Epoch 11/30\n",
      "7352/7352 [==============================] - 84s 11ms/step - loss: 0.2596 - acc: 0.9157 - val_loss: 0.4809 - val_acc: 0.8616\n",
      "Epoch 12/30\n",
      "7352/7352 [==============================] - 85s 12ms/step - loss: 0.2305 - acc: 0.9264 - val_loss: 0.6743 - val_acc: 0.8310\n",
      "Epoch 13/30\n",
      "7352/7352 [==============================] - 83s 11ms/step - loss: 0.2241 - acc: 0.9263 - val_loss: 0.4479 - val_acc: 0.8728\n",
      "Epoch 14/30\n",
      "7352/7352 [==============================] - 84s 11ms/step - loss: 0.2035 - acc: 0.9346 - val_loss: 0.3914 - val_acc: 0.8914\n",
      "Epoch 15/30\n",
      "7352/7352 [==============================] - 85s 12ms/step - loss: 0.2066 - acc: 0.9329 - val_loss: 0.3514 - val_acc: 0.8951\n",
      "Epoch 16/30\n",
      "7352/7352 [==============================] - 83s 11ms/step - loss: 0.2220 - acc: 0.9242 - val_loss: 0.4020 - val_acc: 0.8948\n",
      "Epoch 17/30\n",
      "7352/7352 [==============================] - 83s 11ms/step - loss: 0.1759 - acc: 0.9415 - val_loss: 0.5216 - val_acc: 0.8860\n",
      "Epoch 18/30\n",
      "7352/7352 [==============================] - 84s 11ms/step - loss: 0.1839 - acc: 0.9381 - val_loss: 0.3565 - val_acc: 0.9033\n",
      "Epoch 19/30\n",
      "7352/7352 [==============================] - 85s 12ms/step - loss: 0.1735 - acc: 0.9411 - val_loss: 0.3165 - val_acc: 0.8979\n",
      "Epoch 20/30\n",
      "7352/7352 [==============================] - 83s 11ms/step - loss: 0.1666 - acc: 0.9421 - val_loss: 0.4550 - val_acc: 0.8951\n",
      "Epoch 21/30\n",
      "7352/7352 [==============================] - 84s 11ms/step - loss: 0.1529 - acc: 0.9467 - val_loss: 0.3792 - val_acc: 0.8955\n",
      "Epoch 22/30\n",
      "7352/7352 [==============================] - 84s 11ms/step - loss: 0.1460 - acc: 0.9476 - val_loss: 0.4256 - val_acc: 0.8982\n",
      "Epoch 23/30\n",
      "7352/7352 [==============================] - 84s 11ms/step - loss: 0.1526 - acc: 0.9499 - val_loss: 0.3555 - val_acc: 0.9125\n",
      "Epoch 24/30\n",
      "7352/7352 [==============================] - 83s 11ms/step - loss: 0.1539 - acc: 0.9448 - val_loss: 0.3348 - val_acc: 0.9026\n",
      "Epoch 25/30\n",
      "7352/7352 [==============================] - 84s 11ms/step - loss: 0.1412 - acc: 0.9484 - val_loss: 0.4516 - val_acc: 0.8996\n",
      "Epoch 26/30\n",
      "7352/7352 [==============================] - 85s 12ms/step - loss: 0.1448 - acc: 0.9474 - val_loss: 0.4065 - val_acc: 0.8938\n",
      "Epoch 27/30\n",
      "7352/7352 [==============================] - 84s 11ms/step - loss: 0.1405 - acc: 0.9468 - val_loss: 0.4039 - val_acc: 0.9040\n",
      "Epoch 28/30\n",
      "7352/7352 [==============================] - 84s 11ms/step - loss: 0.1446 - acc: 0.9486 - val_loss: 0.3808 - val_acc: 0.9148\n",
      "Epoch 29/30\n",
      "7352/7352 [==============================] - 84s 11ms/step - loss: 0.1427 - acc: 0.9517 - val_loss: 0.3882 - val_acc: 0.9030\n",
      "Epoch 30/30\n",
      "7352/7352 [==============================] - 82s 11ms/step - loss: 0.1446 - acc: 0.9464 - val_loss: 0.4850 - val_acc: 0.8951\n"
     ]
    }
   ],
   "source": [
    "# Training the model\n",
    "history = model.fit(X_train,\n",
    "          Y_train,\n",
    "          batch_size=batch_size,\n",
    "          validation_data=(X_test, Y_test),\n",
    "          epochs=epochs)"
   ]
  },
  {
   "cell_type": "code",
   "execution_count": 44,
   "metadata": {
    "_uuid": "27e08a76536104e1833f4cfd0e5d94b4a5c52052"
   },
   "outputs": [
    {
     "name": "stdout",
     "output_type": "stream",
     "text": [
      "Pred                LAYING        ...         WALKING_UPSTAIRS\n",
      "True                              ...                         \n",
      "LAYING                 527        ...                        0\n",
      "SITTING                  0        ...                        1\n",
      "STANDING                 0        ...                        0\n",
      "WALKING                  0        ...                       12\n",
      "WALKING_DOWNSTAIRS       0        ...                       30\n",
      "WALKING_UPSTAIRS         0        ...                      444\n",
      "\n",
      "[6 rows x 6 columns]\n"
     ]
    }
   ],
   "source": [
    "# Confusion Matrix\n",
    "print(confusion_matrix(Y_test, model.predict(X_test)))"
   ]
  },
  {
   "cell_type": "code",
   "execution_count": 45,
   "metadata": {
    "_uuid": "d894ef8027c1a0ecdafcdba821b2d45765475f0c"
   },
   "outputs": [
    {
     "name": "stdout",
     "output_type": "stream",
     "text": [
      "2947/2947 [==============================] - 5s 2ms/step\n"
     ]
    }
   ],
   "source": [
    "score = model.evaluate(X_test, Y_test)"
   ]
  },
  {
   "cell_type": "code",
   "execution_count": 46,
   "metadata": {
    "_uuid": "77080fd8ca48257d71188f125dbff3300dca3671"
   },
   "outputs": [
    {
     "data": {
      "text/plain": [
       "[0.4850236960412158, 0.8951476077366813]"
      ]
     },
     "execution_count": 46,
     "metadata": {},
     "output_type": "execute_result"
    }
   ],
   "source": [
    "score"
   ]
  },
  {
   "cell_type": "code",
   "execution_count": 47,
   "metadata": {
    "_uuid": "af33022e960aaea4ac804110437cd4387a5a3261"
   },
   "outputs": [
    {
     "name": "stdout",
     "output_type": "stream",
     "text": [
      "Test score: 0.4850236960412158\n",
      "Test accuracy: 0.8951476077366813\n"
     ]
    },
    {
     "data": {
      "image/png": "[encoded data removed]",
      "text/plain": [
       "<Figure size 432x288 with 1 Axes>"
      ]
     },
     "metadata": {},
     "output_type": "display_data"
    }
   ],
   "source": [
    "score = model.evaluate(X_test, Y_test, verbose=0) \n",
    "print('Test score:', score[0]) \n",
    "print('Test accuracy:', score[1])\n",
    "\n",
    "nb_epoch = 30\n",
    "fig,ax = plt.subplots(1,1)\n",
    "ax.set_xlabel('epoch') ; ax.set_ylabel('Categorical Crossentropy Loss')\n",
    "\n",
    "# list of epoch numbers\n",
    "x = list(range(1,nb_epoch+1))\n",
    "\n",
    "# print(history.history.keys())\n",
    "# dict_keys(['val_loss', 'val_acc', 'loss', 'acc'])\n",
    "# history = model_drop.fit(X_train, Y_train, batch_size=batch_size, epochs=nb_epoch, verbose=1, validation_data=(X_test, Y_test))\n",
    "\n",
    "# we will get val_loss and val_acc only when you pass the paramter validation_data\n",
    "# val_loss : validation loss\n",
    "# val_acc : validation accuracy\n",
    "\n",
    "# loss : training loss\n",
    "# acc : train accuracy\n",
    "# for each key in histrory.histrory we will have a list of length equal to number of epochs\n",
    "\n",
    "\n",
    "vy = history.history['val_loss']\n",
    "ty = history.history['loss']\n",
    "plt_dynamic(x, vy, ty, ax)"
   ]
  },
  {
   "cell_type": "markdown",
   "metadata": {
    "_uuid": "200fcf8c2d0f7f608db15863cb2d57f64d375fbd"
   },
   "source": [
    "- We can see as we decreased the dropout rate to 0.3, the accuracy of the model increased to 92.16%  and loss decreased to 0.24."
   ]
  },
  {
   "cell_type": "code",
   "execution_count": 48,
   "metadata": {
    "_uuid": "a34c23d9aceecab3b0b66fd803dea863ca3fb467"
   },
   "outputs": [
    {
     "name": "stdout",
     "output_type": "stream",
     "text": [
      "_________________________________________________________________\n",
      "Layer (type)                 Output Shape              Param #   \n",
      "=================================================================\n",
      "lstm_5 (LSTM)                (None, 128, 32)           5376      \n",
      "_________________________________________________________________\n",
      "dropout_5 (Dropout)          (None, 128, 32)           0         \n",
      "_________________________________________________________________\n",
      "lstm_6 (LSTM)                (None, 32)                8320      \n",
      "_________________________________________________________________\n",
      "dropout_6 (Dropout)          (None, 32)                0         \n",
      "_________________________________________________________________\n",
      "dense_5 (Dense)              (None, 6)                 198       \n",
      "=================================================================\n",
      "Total params: 13,894\n",
      "Trainable params: 13,894\n",
      "Non-trainable params: 0\n",
      "_________________________________________________________________\n"
     ]
    }
   ],
   "source": [
    "# experiment 3- we add two lstm layers\n",
    "n_hidden = 32\n",
    "# Initiliazing the sequential model\n",
    "model = Sequential()\n",
    "# Configuring the parameters\n",
    "model.add(LSTM(n_hidden,return_sequences=True, input_shape=(timesteps, input_dim)))\n",
    "# Adding a dropout layer\n",
    "model.add(Dropout(0.5))\n",
    "model.add(LSTM(n_hidden,))\n",
    "model.add(Dropout(0.5))\n",
    "# Adding a dense output layer with sigmoid activation\n",
    "model.add(Dense(n_classes, activation='sigmoid'))\n",
    "model.summary()"
   ]
  },
  {
   "cell_type": "code",
   "execution_count": 49,
   "metadata": {
    "_uuid": "5d880c91ac9be69c937e06e1f6806778fb670f28"
   },
   "outputs": [],
   "source": [
    "# Compiling the model\n",
    "model.compile(loss='categorical_crossentropy',\n",
    "              optimizer='rmsprop',\n",
    "              metrics=['accuracy'])"
   ]
  },
  {
   "cell_type": "code",
   "execution_count": 50,
   "metadata": {
    "_uuid": "2549be46698135225b2d767c804af22baee80ea1"
   },
   "outputs": [
    {
     "name": "stdout",
     "output_type": "stream",
     "text": [
      "Train on 7352 samples, validate on 2947 samples\n",
      "Epoch 1/30\n",
      "7352/7352 [==============================] - 166s 23ms/step - loss: 1.2349 - acc: 0.5000 - val_loss: 1.1344 - val_acc: 0.4842\n",
      "Epoch 2/30\n",
      "7352/7352 [==============================] - 168s 23ms/step - loss: 0.8493 - acc: 0.6085 - val_loss: 0.8358 - val_acc: 0.6023\n",
      "Epoch 3/30\n",
      "7352/7352 [==============================] - 164s 22ms/step - loss: 0.7219 - acc: 0.6591 - val_loss: 0.7699 - val_acc: 0.6447\n",
      "Epoch 4/30\n",
      "7352/7352 [==============================] - 165s 22ms/step - loss: 0.6277 - acc: 0.7289 - val_loss: 0.7184 - val_acc: 0.7350\n",
      "Epoch 5/30\n",
      "7352/7352 [==============================] - 164s 22ms/step - loss: 0.4972 - acc: 0.7907 - val_loss: 0.7390 - val_acc: 0.7540\n",
      "Epoch 6/30\n",
      "7352/7352 [==============================] - 165s 22ms/step - loss: 0.4464 - acc: 0.8062 - val_loss: 0.5878 - val_acc: 0.7706\n",
      "Epoch 7/30\n",
      "7352/7352 [==============================] - 162s 22ms/step - loss: 0.3990 - acc: 0.8403 - val_loss: 0.5310 - val_acc: 0.8331\n",
      "Epoch 8/30\n",
      "7352/7352 [==============================] - 168s 23ms/step - loss: 0.3217 - acc: 0.8874 - val_loss: 0.6184 - val_acc: 0.8504\n",
      "Epoch 9/30\n",
      "7352/7352 [==============================] - 168s 23ms/step - loss: 0.2671 - acc: 0.9219 - val_loss: 0.4887 - val_acc: 0.8670\n",
      "Epoch 10/30\n",
      "7352/7352 [==============================] - 168s 23ms/step - loss: 0.2413 - acc: 0.9251 - val_loss: 0.4804 - val_acc: 0.8731\n",
      "Epoch 11/30\n",
      "7352/7352 [==============================] - 169s 23ms/step - loss: 0.2089 - acc: 0.9338 - val_loss: 0.4167 - val_acc: 0.8955\n",
      "Epoch 12/30\n",
      "7352/7352 [==============================] - 167s 23ms/step - loss: 0.1927 - acc: 0.9312 - val_loss: 0.7066 - val_acc: 0.8392\n",
      "Epoch 13/30\n",
      "7352/7352 [==============================] - 168s 23ms/step - loss: 0.1865 - acc: 0.9407 - val_loss: 0.3899 - val_acc: 0.8887\n",
      "Epoch 14/30\n",
      "7352/7352 [==============================] - 168s 23ms/step - loss: 0.2284 - acc: 0.9353 - val_loss: 0.4458 - val_acc: 0.9033\n",
      "Epoch 15/30\n",
      "7352/7352 [==============================] - 169s 23ms/step - loss: 0.1621 - acc: 0.9444 - val_loss: 0.3804 - val_acc: 0.9043\n",
      "Epoch 16/30\n",
      "7352/7352 [==============================] - 167s 23ms/step - loss: 0.1585 - acc: 0.9464 - val_loss: 0.4511 - val_acc: 0.8904\n",
      "Epoch 17/30\n",
      "7352/7352 [==============================] - 168s 23ms/step - loss: 0.1536 - acc: 0.9440 - val_loss: 0.3199 - val_acc: 0.9084\n",
      "Epoch 18/30\n",
      "7352/7352 [==============================] - 167s 23ms/step - loss: 0.1605 - acc: 0.9489 - val_loss: 0.3448 - val_acc: 0.9002\n",
      "Epoch 19/30\n",
      "7352/7352 [==============================] - 168s 23ms/step - loss: 0.1572 - acc: 0.9467 - val_loss: 0.4229 - val_acc: 0.9121\n",
      "Epoch 20/30\n",
      "7352/7352 [==============================] - 167s 23ms/step - loss: 0.1957 - acc: 0.9419 - val_loss: 0.3722 - val_acc: 0.9023\n",
      "Epoch 21/30\n",
      "7352/7352 [==============================] - 169s 23ms/step - loss: 0.1611 - acc: 0.9479 - val_loss: 0.3104 - val_acc: 0.9199\n",
      "Epoch 22/30\n",
      "7352/7352 [==============================] - 165s 22ms/step - loss: 0.1473 - acc: 0.9501 - val_loss: 0.4251 - val_acc: 0.8958\n",
      "Epoch 23/30\n",
      "7352/7352 [==============================] - 164s 22ms/step - loss: 0.1490 - acc: 0.9505 - val_loss: 0.3791 - val_acc: 0.9023\n",
      "Epoch 24/30\n",
      "7352/7352 [==============================] - 167s 23ms/step - loss: 0.1381 - acc: 0.9531 - val_loss: 0.5328 - val_acc: 0.8792\n",
      "Epoch 25/30\n",
      "7352/7352 [==============================] - 163s 22ms/step - loss: 0.1469 - acc: 0.9527 - val_loss: 0.4930 - val_acc: 0.8901\n",
      "Epoch 26/30\n",
      "7352/7352 [==============================] - 165s 22ms/step - loss: 0.1387 - acc: 0.9508 - val_loss: 0.3588 - val_acc: 0.9135\n",
      "Epoch 27/30\n",
      "7352/7352 [==============================] - 165s 22ms/step - loss: 0.1480 - acc: 0.9518 - val_loss: 0.3406 - val_acc: 0.9172\n",
      "Epoch 28/30\n",
      "7352/7352 [==============================] - 167s 23ms/step - loss: 0.1507 - acc: 0.9455 - val_loss: 0.4185 - val_acc: 0.9074\n",
      "Epoch 29/30\n",
      "7352/7352 [==============================] - 167s 23ms/step - loss: 0.1482 - acc: 0.9487 - val_loss: 0.3686 - val_acc: 0.9063\n",
      "Epoch 30/30\n",
      "7352/7352 [==============================] - 167s 23ms/step - loss: 0.1362 - acc: 0.9517 - val_loss: 0.3661 - val_acc: 0.9002\n"
     ]
    }
   ],
   "source": [
    "# Training the model\n",
    "history = model.fit(X_train,\n",
    "          Y_train,\n",
    "          batch_size=batch_size,\n",
    "          validation_data=(X_test, Y_test),\n",
    "          epochs=epochs)"
   ]
  },
  {
   "cell_type": "code",
   "execution_count": 51,
   "metadata": {
    "_uuid": "bb8cc67c710497e109986a2c18128a09e323f397"
   },
   "outputs": [
    {
     "name": "stdout",
     "output_type": "stream",
     "text": [
      "Pred                LAYING        ...         WALKING_UPSTAIRS\n",
      "True                              ...                         \n",
      "LAYING                 509        ...                       28\n",
      "SITTING                  6        ...                        2\n",
      "STANDING                 0        ...                        0\n",
      "WALKING                  0        ...                       46\n",
      "WALKING_DOWNSTAIRS       0        ...                       11\n",
      "WALKING_UPSTAIRS         0        ...                      468\n",
      "\n",
      "[6 rows x 6 columns]\n"
     ]
    }
   ],
   "source": [
    "# Confusion Matrix\n",
    "print(confusion_matrix(Y_test, model.predict(X_test)))"
   ]
  },
  {
   "cell_type": "code",
   "execution_count": 52,
   "metadata": {
    "_uuid": "f94ffa8ba1ecf30a799c8770b9cb3288c3e30222"
   },
   "outputs": [
    {
     "name": "stdout",
     "output_type": "stream",
     "text": [
      "2947/2947 [==============================] - 11s 4ms/step\n"
     ]
    }
   ],
   "source": [
    "score = model.evaluate(X_test, Y_test)"
   ]
  },
  {
   "cell_type": "code",
   "execution_count": 53,
   "metadata": {
    "_uuid": "7aeb16e3a62867360303e74058b2325deae758f4"
   },
   "outputs": [
    {
     "data": {
      "text/plain": [
       "[0.36606557368492926, 0.9002375296912114]"
      ]
     },
     "execution_count": 53,
     "metadata": {},
     "output_type": "execute_result"
    }
   ],
   "source": [
    "score"
   ]
  },
  {
   "cell_type": "code",
   "execution_count": 54,
   "metadata": {
    "_uuid": "9684a784d920f8ea2b9747e12a1b24125e62b4c6"
   },
   "outputs": [
    {
     "name": "stdout",
     "output_type": "stream",
     "text": [
      "Test score: 0.36606557368492926\n",
      "Test accuracy: 0.9002375296912114\n"
     ]
    },
    {
     "data": {
      "image/png": "[encoded data removed]",
      "text/plain": [
       "<Figure size 432x288 with 1 Axes>"
      ]
     },
     "metadata": {},
     "output_type": "display_data"
    }
   ],
   "source": [
    "score = model.evaluate(X_test, Y_test, verbose=0) \n",
    "print('Test score:', score[0]) \n",
    "print('Test accuracy:', score[1])\n",
    "\n",
    "nb_epoch = 30\n",
    "fig,ax = plt.subplots(1,1)\n",
    "ax.set_xlabel('epoch') ; ax.set_ylabel('Categorical Crossentropy Loss')\n",
    "\n",
    "# list of epoch numbers\n",
    "x = list(range(1,nb_epoch+1))\n",
    "\n",
    "# print(history.history.keys())\n",
    "# dict_keys(['val_loss', 'val_acc', 'loss', 'acc'])\n",
    "# history = model_drop.fit(X_train, Y_train, batch_size=batch_size, epochs=nb_epoch, verbose=1, validation_data=(X_test, Y_test))\n",
    "\n",
    "# we will get val_loss and val_acc only when you pass the paramter validation_data\n",
    "# val_loss : validation loss\n",
    "# val_acc : validation accuracy\n",
    "\n",
    "# loss : training loss\n",
    "# acc : train accuracy\n",
    "# for each key in histrory.histrory we will have a list of length equal to number of epochs\n",
    "\n",
    "\n",
    "vy = history.history['val_loss']\n",
    "ty = history.history['loss']\n",
    "plt_dynamic(x, vy, ty, ax)"
   ]
  },
  {
   "cell_type": "code",
   "execution_count": 55,
   "metadata": {
    "_uuid": "fad17c7ff09a1aae8b28748f4212f84169d8a1db"
   },
   "outputs": [
    {
     "name": "stdout",
     "output_type": "stream",
     "text": [
      "_________________________________________________________________\n",
      "Layer (type)                 Output Shape              Param #   \n",
      "=================================================================\n",
      "lstm_7 (LSTM)                (None, 128, 32)           5376      \n",
      "_________________________________________________________________\n",
      "dropout_7 (Dropout)          (None, 128, 32)           0         \n",
      "_________________________________________________________________\n",
      "lstm_8 (LSTM)                (None, 32)                8320      \n",
      "_________________________________________________________________\n",
      "dropout_8 (Dropout)          (None, 32)                0         \n",
      "_________________________________________________________________\n",
      "dense_6 (Dense)              (None, 6)                 198       \n",
      "=================================================================\n",
      "Total params: 13,894\n",
      "Trainable params: 13,894\n",
      "Non-trainable params: 0\n",
      "_________________________________________________________________\n"
     ]
    }
   ],
   "source": [
    "# experiment 3- we add two lstm layers\n",
    "n_hidden = 32\n",
    "# Initiliazing the sequential model\n",
    "model = Sequential()\n",
    "# Configuring the parameters\n",
    "model.add(LSTM(n_hidden,return_sequences=True, input_shape=(timesteps, input_dim)))\n",
    "# Adding a dropout layer\n",
    "model.add(Dropout(0.7))\n",
    "model.add(LSTM(n_hidden,))\n",
    "model.add(Dropout(0.7))\n",
    "# Adding a dense output layer with sigmoid activation\n",
    "model.add(Dense(n_classes, activation='sigmoid'))\n",
    "model.summary()"
   ]
  },
  {
   "cell_type": "code",
   "execution_count": 56,
   "metadata": {
    "_uuid": "56b7f64fdf239a18d8e2c61dce4b91a7fc702a18"
   },
   "outputs": [],
   "source": [
    "# Compiling the model\n",
    "model.compile(loss='categorical_crossentropy',\n",
    "              optimizer='rmsprop',\n",
    "              metrics=['accuracy'])"
   ]
  },
  {
   "cell_type": "code",
   "execution_count": 57,
   "metadata": {
    "_uuid": "9365eacbdd5dc98d7d1f288bec1af2c07d8caae9"
   },
   "outputs": [
    {
     "name": "stdout",
     "output_type": "stream",
     "text": [
      "Train on 7352 samples, validate on 2947 samples\n",
      "Epoch 1/30\n",
      "7352/7352 [==============================] - 168s 23ms/step - loss: 1.3451 - acc: 0.4505 - val_loss: 1.1337 - val_acc: 0.4835\n",
      "Epoch 2/30\n",
      "7352/7352 [==============================] - 170s 23ms/step - loss: 1.0109 - acc: 0.5845 - val_loss: 0.8823 - val_acc: 0.5796\n",
      "Epoch 3/30\n",
      "7352/7352 [==============================] - 169s 23ms/step - loss: 0.8614 - acc: 0.6266 - val_loss: 0.7719 - val_acc: 0.6705\n",
      "Epoch 4/30\n",
      "7352/7352 [==============================] - 170s 23ms/step - loss: 0.7744 - acc: 0.6483 - val_loss: 0.7666 - val_acc: 0.6189\n",
      "Epoch 5/30\n",
      "7352/7352 [==============================] - 169s 23ms/step - loss: 0.7236 - acc: 0.6654 - val_loss: 0.7156 - val_acc: 0.6145\n",
      "Epoch 6/30\n",
      "7352/7352 [==============================] - 169s 23ms/step - loss: 0.6513 - acc: 0.6942 - val_loss: 0.6517 - val_acc: 0.7306\n",
      "Epoch 7/30\n",
      "7352/7352 [==============================] - 169s 23ms/step - loss: 0.5894 - acc: 0.7205 - val_loss: 0.7250 - val_acc: 0.6987\n",
      "Epoch 8/30\n",
      "7352/7352 [==============================] - 170s 23ms/step - loss: 0.5838 - acc: 0.7461 - val_loss: 0.6166 - val_acc: 0.7625\n",
      "Epoch 9/30\n",
      "7352/7352 [==============================] - 168s 23ms/step - loss: 0.5406 - acc: 0.7741 - val_loss: 0.5991 - val_acc: 0.7540\n",
      "Epoch 10/30\n",
      "7352/7352 [==============================] - 166s 23ms/step - loss: 0.4921 - acc: 0.7904 - val_loss: 0.6946 - val_acc: 0.7648\n",
      "Epoch 11/30\n",
      "7352/7352 [==============================] - 168s 23ms/step - loss: 0.4653 - acc: 0.8058 - val_loss: 0.6203 - val_acc: 0.8429\n",
      "Epoch 12/30\n",
      "7352/7352 [==============================] - 167s 23ms/step - loss: 0.4088 - acc: 0.8517 - val_loss: 0.6356 - val_acc: 0.8320\n",
      "Epoch 13/30\n",
      "7352/7352 [==============================] - 169s 23ms/step - loss: 0.3839 - acc: 0.8857 - val_loss: 0.6936 - val_acc: 0.8517\n",
      "Epoch 14/30\n",
      "7352/7352 [==============================] - 167s 23ms/step - loss: 0.3089 - acc: 0.9083 - val_loss: 0.5997 - val_acc: 0.8846\n",
      "Epoch 15/30\n",
      "7352/7352 [==============================] - 167s 23ms/step - loss: 0.2883 - acc: 0.9163 - val_loss: 0.6952 - val_acc: 0.8778\n",
      "Epoch 16/30\n",
      "7352/7352 [==============================] - 166s 23ms/step - loss: 0.2482 - acc: 0.9259 - val_loss: 0.5092 - val_acc: 0.8894\n",
      "Epoch 17/30\n",
      "7352/7352 [==============================] - 165s 22ms/step - loss: 0.2533 - acc: 0.9272 - val_loss: 0.7321 - val_acc: 0.8802\n",
      "Epoch 18/30\n",
      "7352/7352 [==============================] - 163s 22ms/step - loss: 0.2362 - acc: 0.9313 - val_loss: 0.6998 - val_acc: 0.8704\n",
      "Epoch 19/30\n",
      "7352/7352 [==============================] - 165s 22ms/step - loss: 0.2273 - acc: 0.9324 - val_loss: 0.6015 - val_acc: 0.8897\n",
      "Epoch 20/30\n",
      "7352/7352 [==============================] - 167s 23ms/step - loss: 0.2296 - acc: 0.9276 - val_loss: 0.6652 - val_acc: 0.8816\n",
      "Epoch 21/30\n",
      "7352/7352 [==============================] - 163s 22ms/step - loss: 0.2285 - acc: 0.9312 - val_loss: 0.6231 - val_acc: 0.8935\n",
      "Epoch 22/30\n",
      "7352/7352 [==============================] - 165s 22ms/step - loss: 0.2137 - acc: 0.9332 - val_loss: 0.6041 - val_acc: 0.8945\n",
      "Epoch 23/30\n",
      "7352/7352 [==============================] - 162s 22ms/step - loss: 0.2078 - acc: 0.9336 - val_loss: 0.5317 - val_acc: 0.8924\n",
      "Epoch 24/30\n",
      "7352/7352 [==============================] - 165s 22ms/step - loss: 0.2112 - acc: 0.9344 - val_loss: 0.6653 - val_acc: 0.8938\n",
      "Epoch 25/30\n",
      "7352/7352 [==============================] - 162s 22ms/step - loss: 0.2087 - acc: 0.9351 - val_loss: 0.6477 - val_acc: 0.8887\n",
      "Epoch 26/30\n",
      "7352/7352 [==============================] - 168s 23ms/step - loss: 0.1968 - acc: 0.9373 - val_loss: 0.7217 - val_acc: 0.8945\n",
      "Epoch 27/30\n",
      "7352/7352 [==============================] - 163s 22ms/step - loss: 0.2169 - acc: 0.9339 - val_loss: 0.6283 - val_acc: 0.8901\n",
      "Epoch 28/30\n",
      "7352/7352 [==============================] - 165s 22ms/step - loss: 0.2147 - acc: 0.9309 - val_loss: 0.7312 - val_acc: 0.8724\n",
      "Epoch 29/30\n",
      "7352/7352 [==============================] - 162s 22ms/step - loss: 0.2064 - acc: 0.9344 - val_loss: 0.5844 - val_acc: 0.9077\n",
      "Epoch 30/30\n",
      "7352/7352 [==============================] - 165s 22ms/step - loss: 0.1940 - acc: 0.9387 - val_loss: 0.6709 - val_acc: 0.8931\n"
     ]
    },
    {
     "data": {
      "text/plain": [
       "<keras.callbacks.History at 0x7f53e0fafe48>"
      ]
     },
     "execution_count": 57,
     "metadata": {},
     "output_type": "execute_result"
    }
   ],
   "source": [
    "# Training the model\n",
    "model.fit(X_train,\n",
    "          Y_train,\n",
    "          batch_size=batch_size,\n",
    "          validation_data=(X_test, Y_test),\n",
    "          epochs=epochs)"
   ]
  },
  {
   "cell_type": "code",
   "execution_count": 58,
   "metadata": {
    "_uuid": "f930e1e304b93be0a66ca8486983299fc7dae9a1"
   },
   "outputs": [
    {
     "name": "stdout",
     "output_type": "stream",
     "text": [
      "Pred                LAYING        ...         WALKING_UPSTAIRS\n",
      "True                              ...                         \n",
      "LAYING                 510        ...                       27\n",
      "SITTING                  0        ...                       25\n",
      "STANDING                 0        ...                       11\n",
      "WALKING                  0        ...                       17\n",
      "WALKING_DOWNSTAIRS       0        ...                        1\n",
      "WALKING_UPSTAIRS         1        ...                      439\n",
      "\n",
      "[6 rows x 6 columns]\n"
     ]
    }
   ],
   "source": [
    "# Confusion Matrix\n",
    "print(confusion_matrix(Y_test, model.predict(X_test)))"
   ]
  },
  {
   "cell_type": "code",
   "execution_count": 59,
   "metadata": {
    "_uuid": "8142293f3cd6fd02763529724d0e09f7141ce701"
   },
   "outputs": [
    {
     "name": "stdout",
     "output_type": "stream",
     "text": [
      "2947/2947 [==============================] - 11s 4ms/step\n"
     ]
    }
   ],
   "source": [
    "score = model.evaluate(X_test, Y_test)"
   ]
  },
  {
   "cell_type": "code",
   "execution_count": 60,
   "metadata": {
    "_uuid": "e4d63c2f958d9140648579fa565561dfcc1189e8"
   },
   "outputs": [
    {
     "data": {
      "text/plain": [
       "[0.6708572037886641, 0.8931116389548693]"
      ]
     },
     "execution_count": 60,
     "metadata": {},
     "output_type": "execute_result"
    }
   ],
   "source": [
    "score"
   ]
  },
  {
   "cell_type": "code",
   "execution_count": 61,
   "metadata": {
    "_uuid": "ee8ab2110cbca7bd9583f7e3c859de92e34307f2"
   },
   "outputs": [
    {
     "name": "stdout",
     "output_type": "stream",
     "text": [
      "Test score: 0.6708572037886641\n",
      "Test accuracy: 0.8931116389548693\n"
     ]
    },
    {
     "data": {
      "image/png": "[encoded data removed]",
      "text/plain": [
       "<Figure size 432x288 with 1 Axes>"
      ]
     },
     "metadata": {},
     "output_type": "display_data"
    }
   ],
   "source": [
    "score = model.evaluate(X_test, Y_test, verbose=0) \n",
    "print('Test score:', score[0]) \n",
    "print('Test accuracy:', score[1])\n",
    "\n",
    "nb_epoch = 30\n",
    "fig,ax = plt.subplots(1,1)\n",
    "ax.set_xlabel('epoch') ; ax.set_ylabel('Categorical Crossentropy Loss')\n",
    "\n",
    "# list of epoch numbers\n",
    "x = list(range(1,nb_epoch+1))\n",
    "\n",
    "# print(history.history.keys())\n",
    "# dict_keys(['val_loss', 'val_acc', 'loss', 'acc'])\n",
    "# history = model_drop.fit(X_train, Y_train, batch_size=batch_size, epochs=nb_epoch, verbose=1, validation_data=(X_test, Y_test))\n",
    "\n",
    "# we will get val_loss and val_acc only when you pass the paramter validation_data\n",
    "# val_loss : validation loss\n",
    "# val_acc : validation accuracy\n",
    "\n",
    "# loss : training loss\n",
    "# acc : train accuracy\n",
    "# for each key in histrory.histrory we will have a list of length equal to number of epochs\n",
    "\n",
    "\n",
    "vy = history.history['val_loss']\n",
    "ty = history.history['loss']\n",
    "plt_dynamic(x, vy, ty, ax)"
   ]
  },
  {
   "cell_type": "code",
   "execution_count": 1,
   "metadata": {
    "_uuid": "6eabe5f95c611e00565979c8a33d3ca5eabb2aa3"
   },
   "outputs": [
    {
     "name": "stdout",
     "output_type": "stream",
     "text": [
      "+---------+-------------+----------+----------+-----------+----------+\n",
      "|  model  | LSTM-layers | Drop-out | n-hidden | train-acc | test-acc |\n",
      "+---------+-------------+----------+----------+-----------+----------+\n",
      "| Model_1 |      1      |   0.5    |    32    |   94.83   |  90.09   |\n",
      "| Model_2 |      1      |   0.5    |    64    |   94.59   |  91.58   |\n",
      "| Model_3 |      1      |   0.8    |    32    |   76.26   |  74.62   |\n",
      "| Model_4 |      1      |   0.3    |    32    |   94.64   |  89.51   |\n",
      "| Model_5 |      2      |   0.5    |    32    |   95.17   |  90.02   |\n",
      "| Model_6 |      2      |   0.7    |    32    |   93.84   |  89.31   |\n",
      "+---------+-------------+----------+----------+-----------+----------+\n"
     ]
    }
   ],
   "source": [
    "# Please compare all your models using Prettytable library\n",
    "\n",
    "from prettytable import PrettyTable\n",
    "\n",
    "x = PrettyTable()\n",
    "\n",
    "x.field_names=['model','LSTM-layers','Drop-out','n-hidden','train-acc','test-acc']\n",
    "x.add_row(['Model_1',1,0.5,32,94.83,90.09])\n",
    "x.add_row(['Model_2',1,0.5,64,94.59,91.58])\n",
    "x.add_row(['Model_3',1,0.8,32,76.26,74.62])\n",
    "x.add_row(['Model_4',1,0.3,32,94.64,89.51])\n",
    "x.add_row(['Model_5',2,0.5,32,95.17,90.02])\n",
    "x.add_row(['Model_6',2,0.7,32,93.84,89.31])\n",
    " \n",
    "print (x)"
   ]
  },
  {
   "cell_type": "code",
   "execution_count": null,
   "metadata": {},
   "outputs": [],
   "source": []
  }
 ],
 "metadata": {
  "kernelspec": {
   "display_name": "Python 3",
   "language": "python",
   "name": "python3"
  },
  "language_info": {
   "codemirror_mode": {
    "name": "ipython",
    "version": 3
   },
   "file_extension": ".py",
   "mimetype": "text/x-python",
   "name": "python",
   "nbconvert_exporter": "python",
   "pygments_lexer": "ipython3",
   "version": "3.6.1"
  }
 },
 "nbformat": 4,
 "nbformat_minor": 1
}
